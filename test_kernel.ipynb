{
 "cells": [
  {
   "cell_type": "code",
   "execution_count": 47,
   "metadata": {},
   "outputs": [],
   "source": [
    "import torch\n",
    "import numpy as np\n",
    "from utilities import OptimizedKernel\n",
    "from tkernels import Matern, Gaussian"
   ]
  },
  {
   "cell_type": "code",
   "execution_count": 48,
   "metadata": {},
   "outputs": [],
   "source": [
    "def generate_data(desired_A, noise=False, size=(10000, 2)):\n",
    "    X = torch.rand(size)\n",
    "\n",
    "    # Transform X with A\n",
    "    X_transformed = X @ desired_A\n",
    "    \n",
    "    # Generate y based on X_transformed and some noise\n",
    "    noise_data = torch.zeros(size[0])\n",
    "    if noise:\n",
    "        noise_data = torch.rand(size[0])\n",
    "    y = X_transformed[:, 0] + X_transformed[:, 1] + 0.1 * noise_data\n",
    "    return X, y"
   ]
  },
  {
   "cell_type": "code",
   "execution_count": 55,
   "metadata": {},
   "outputs": [],
   "source": [
    "# Init the model\n",
    "model = OptimizedKernel(kernel=Gaussian(), dim=2, reg_para=1e-6, learning_rate=1e-3, n_epochs=50, \n",
    "                                                flag_initialize_diagonal=True,\n",
    "                                                flag_symmetric_A=False)"
   ]
  },
  {
   "cell_type": "code",
   "execution_count": 56,
   "metadata": {},
   "outputs": [],
   "source": [
    "# Define the desired transformation matrix (self.A) and generate Data\n",
    "desired_A = torch.tensor([[3, 0.0], [0.0, 1]])\n",
    "X, y = generate_data(desired_A)"
   ]
  },
  {
   "cell_type": "code",
   "execution_count": 57,
   "metadata": {},
   "outputs": [],
   "source": [
    "# Optimize the model (learn A)\n",
    "model.optimize(X, y, flag_optim_verbose=False)"
   ]
  },
  {
   "cell_type": "code",
   "execution_count": 58,
   "metadata": {},
   "outputs": [
    {
     "name": "stdout",
     "output_type": "stream",
     "text": [
      "Desired A:\n",
      " [[3. 0.]\n",
      " [0. 1.]]\n",
      "Learned A:\n",
      " [[0.424 0.048]\n",
      " [0.053 0.266]]\n"
     ]
    }
   ],
   "source": [
    "# Compare the learned A with the desired A\n",
    "print(\"Desired A:\\n\", desired_A.numpy())\n",
    "print(\"Learned A:\\n\", model.A.detach().numpy().round(decimals=3))"
   ]
  },
  {
   "cell_type": "code",
   "execution_count": 59,
   "metadata": {},
   "outputs": [
    {
     "name": "stdout",
     "output_type": "stream",
     "text": [
      "Singulärwerte (S): [0.439 0.251]\n",
      "Linke singuläre Vektoren (U):\n",
      " [[-0.959 -0.284]\n",
      " [-0.284  0.959]]\n",
      "Rechte singuläre Vektoren (V^T):\n",
      " [[-0.961 -0.277]\n",
      " [-0.277  0.961]]\n",
      "Eigenwerte: [0.43872833 0.25127167]\n",
      "Eigenvektoren:\n",
      " [[ 0.95600766 -0.26774696]\n",
      " [ 0.29334164  0.96348923]]\n"
     ]
    }
   ],
   "source": [
    "U, S, VT = np.linalg.svd(model.A.detach().numpy().round(decimals=3))\n",
    "print(\"Singulärwerte (S):\", S.round(decimals=3))\n",
    "print(\"Linke singuläre Vektoren (U):\\n\", U.round(decimals=3))\n",
    "print(\"Rechte singuläre Vektoren (V^T):\\n\", VT.round(decimals=3))\n",
    "\n",
    "# Eigenwerte und Eigenvektoren berechnen\n",
    "eigenwerte, eigenvektoren = np.linalg.eig(model.A.detach().numpy().round(decimals=3))\n",
    "\n",
    "# Ausgabe der Eigenwerte und Eigenvektoren\n",
    "print(\"Eigenwerte:\", eigenwerte)\n",
    "print(\"Eigenvektoren:\\n\", eigenvektoren)"
   ]
  },
  {
   "cell_type": "code",
   "execution_count": 8,
   "metadata": {},
   "outputs": [],
   "source": [
    "# Use different transformation matrix\n",
    "desired_A = torch.tensor([[1.0, 0.0], [0.0, 3.0]])\n",
    "X, y = generate_data(desired_A)"
   ]
  },
  {
   "cell_type": "code",
   "execution_count": 9,
   "metadata": {},
   "outputs": [],
   "source": [
    "# Optimize the model (learn A)\n",
    "model.optimize(X, y, flag_optim_verbose=False)"
   ]
  },
  {
   "cell_type": "code",
   "execution_count": 10,
   "metadata": {},
   "outputs": [
    {
     "name": "stdout",
     "output_type": "stream",
     "text": [
      "Desired A:\n",
      " [[1. 0.]\n",
      " [0. 3.]]\n",
      "Learned A:\n",
      " [[0.259 0.029]\n",
      " [0.1   0.416]]\n"
     ]
    }
   ],
   "source": [
    "# Compare the learned A with the desired A\n",
    "print(\"Desired A:\\n\", desired_A.numpy())\n",
    "print(\"Learned A:\\n\", model.A.detach().numpy().round(decimals=3))"
   ]
  },
  {
   "cell_type": "code",
   "execution_count": 11,
   "metadata": {},
   "outputs": [
    {
     "name": "stdout",
     "output_type": "stream",
     "text": [
      "Singulärwerte (S): [0.441 0.238]\n",
      "Linke singuläre Vektoren (U):\n",
      " [[ 0.287  0.958]\n",
      " [ 0.958 -0.287]]\n",
      "Rechte singuläre Vektoren (V^T):\n",
      " [[ 0.386  0.922]\n",
      " [ 0.922 -0.386]]\n"
     ]
    }
   ],
   "source": [
    "U, S, VT = np.linalg.svd(model.A.detach().numpy().round(decimals=3))\n",
    "print(\"Singulärwerte (S):\", S.round(decimals=3))\n",
    "print(\"Linke singuläre Vektoren (U):\\n\", U.round(decimals=3))\n",
    "print(\"Rechte singuläre Vektoren (V^T):\\n\", VT.round(decimals=3))"
   ]
  },
  {
   "cell_type": "code",
   "execution_count": 12,
   "metadata": {},
   "outputs": [],
   "source": [
    "# Use symmetric A\n",
    "model = OptimizedKernel(kernel=Gaussian(), dim=2, reg_para=1e-6, learning_rate=1e-3, n_epochs=1000, \n",
    "                                                flag_initialize_diagonal=True,\n",
    "                                                flag_symmetric_A=True)"
   ]
  },
  {
   "cell_type": "code",
   "execution_count": 13,
   "metadata": {},
   "outputs": [],
   "source": [
    "# Same data\n",
    "model.optimize(X, y, flag_optim_verbose=False)"
   ]
  },
  {
   "cell_type": "code",
   "execution_count": 14,
   "metadata": {},
   "outputs": [
    {
     "name": "stdout",
     "output_type": "stream",
     "text": [
      "Desired A:\n",
      " [[1. 0.]\n",
      " [0. 3.]]\n",
      "Learned A:\n",
      " [[0.243 0.056]\n",
      " [0.056 0.423]]\n"
     ]
    }
   ],
   "source": [
    "# Compare the learned A with the desired A\n",
    "print(\"Desired A:\\n\", desired_A.numpy())\n",
    "print(\"Learned A:\\n\", model.A.detach().numpy().round(decimals=3))"
   ]
  },
  {
   "cell_type": "code",
   "execution_count": 15,
   "metadata": {},
   "outputs": [
    {
     "name": "stdout",
     "output_type": "stream",
     "text": [
      "Singulärwerte (S): [0.439 0.227]\n",
      "Linke singuläre Vektoren (U):\n",
      " [[ 0.275  0.962]\n",
      " [ 0.962 -0.275]]\n",
      "Rechte singuläre Vektoren (V^T):\n",
      " [[ 0.275  0.962]\n",
      " [ 0.962 -0.275]]\n"
     ]
    }
   ],
   "source": [
    "U, S, VT = np.linalg.svd(model.A.detach().numpy().round(decimals=3))\n",
    "print(\"Singulärwerte (S):\", S.round(decimals=3))\n",
    "print(\"Linke singuläre Vektoren (U):\\n\", U.round(decimals=3))\n",
    "print(\"Rechte singuläre Vektoren (V^T):\\n\", VT.round(decimals=3))"
   ]
  },
  {
   "cell_type": "code",
   "execution_count": 16,
   "metadata": {},
   "outputs": [],
   "source": [
    "# Higher Regression Parameter\n",
    "model = OptimizedKernel(kernel=Gaussian(), dim=2, reg_para=5e-3, learning_rate=1e-3, n_epochs=1000, \n",
    "                                                flag_initialize_diagonal=True,\n",
    "                                                flag_symmetric_A=True)"
   ]
  },
  {
   "cell_type": "code",
   "execution_count": 17,
   "metadata": {},
   "outputs": [],
   "source": [
    "# Same data\n",
    "model.optimize(X, y, flag_optim_verbose=False)"
   ]
  },
  {
   "cell_type": "code",
   "execution_count": 18,
   "metadata": {},
   "outputs": [
    {
     "name": "stdout",
     "output_type": "stream",
     "text": [
      "Desired A:\n",
      " [[1. 0.]\n",
      " [0. 3.]]\n",
      "Learned A:\n",
      " [[0.13  0.39 ]\n",
      " [0.39  1.169]]\n"
     ]
    }
   ],
   "source": [
    "# Compare the learned A with the desired A\n",
    "print(\"Desired A:\\n\", desired_A.numpy())\n",
    "print(\"Learned A:\\n\", model.A.detach().numpy().round(decimals=3))"
   ]
  },
  {
   "cell_type": "code",
   "execution_count": 19,
   "metadata": {},
   "outputs": [
    {
     "name": "stdout",
     "output_type": "stream",
     "text": [
      "Singulärwerte (S): [1.299 0.   ]\n",
      "Linke singuläre Vektoren (U):\n",
      " [[-0.316 -0.949]\n",
      " [-0.949  0.316]]\n",
      "Rechte singuläre Vektoren (V^T):\n",
      " [[-0.316 -0.949]\n",
      " [ 0.949 -0.316]]\n"
     ]
    }
   ],
   "source": [
    "U, S, VT = np.linalg.svd(model.A.detach().numpy().round(decimals=3))\n",
    "print(\"Singulärwerte (S):\", S.round(decimals=3))\n",
    "print(\"Linke singuläre Vektoren (U):\\n\", U.round(decimals=3))\n",
    "print(\"Rechte singuläre Vektoren (V^T):\\n\", VT.round(decimals=3))"
   ]
  },
  {
   "cell_type": "code",
   "execution_count": 20,
   "metadata": {},
   "outputs": [],
   "source": [
    "# Init A with random Matrix\n",
    "model = OptimizedKernel(kernel=Gaussian(), dim=2, reg_para=1e-5, learning_rate=1e-3, n_epochs=1000, \n",
    "                                                flag_initialize_diagonal=False,\n",
    "                                                flag_symmetric_A=False)"
   ]
  },
  {
   "cell_type": "code",
   "execution_count": 21,
   "metadata": {},
   "outputs": [],
   "source": [
    "# Same data\n",
    "model.optimize(X, y, flag_optim_verbose=False)"
   ]
  },
  {
   "cell_type": "code",
   "execution_count": 22,
   "metadata": {},
   "outputs": [
    {
     "name": "stdout",
     "output_type": "stream",
     "text": [
      "Desired A:\n",
      " [[1. 0.]\n",
      " [0. 3.]]\n",
      "Learned A:\n",
      " [[ 0.026  0.192]\n",
      " [-0.038  0.524]]\n"
     ]
    }
   ],
   "source": [
    "# Compare the learned A with the desired A\n",
    "print(\"Desired A:\\n\", desired_A.numpy())\n",
    "print(\"Learned A:\\n\", model.A.detach().numpy().round(decimals=3))"
   ]
  },
  {
   "cell_type": "code",
   "execution_count": 23,
   "metadata": {},
   "outputs": [
    {
     "name": "stdout",
     "output_type": "stream",
     "text": [
      "Singulärwerte (S): [0.559 0.037]\n",
      "Linke singuläre Vektoren (U):\n",
      " [[ 0.341  0.94 ]\n",
      " [ 0.94  -0.341]]\n",
      "Rechte singuläre Vektoren (V^T):\n",
      " [[-0.048  0.999]\n",
      " [ 0.999  0.048]]\n"
     ]
    }
   ],
   "source": [
    "U, S, VT = np.linalg.svd(model.A.detach().numpy().round(decimals=3))\n",
    "print(\"Singulärwerte (S):\", S.round(decimals=3))\n",
    "print(\"Linke singuläre Vektoren (U):\\n\", U.round(decimals=3))\n",
    "print(\"Rechte singuläre Vektoren (V^T):\\n\", VT.round(decimals=3))"
   ]
  },
  {
   "cell_type": "code",
   "execution_count": 24,
   "metadata": {},
   "outputs": [],
   "source": [
    "# Data with noise\n",
    "desired_A = torch.tensor([[3.0, 0.0], [0.0, 1.0]])\n",
    "X, y = generate_data(desired_A, noise=True)"
   ]
  },
  {
   "cell_type": "code",
   "execution_count": 25,
   "metadata": {},
   "outputs": [],
   "source": [
    "# Init the model\n",
    "model = OptimizedKernel(kernel=Gaussian(), dim=2, reg_para=1e-5, learning_rate=1e-3, n_epochs=1000, \n",
    "                                                flag_initialize_diagonal=False,\n",
    "                                                flag_symmetric_A=False)"
   ]
  },
  {
   "cell_type": "code",
   "execution_count": 26,
   "metadata": {},
   "outputs": [],
   "source": [
    "model.optimize(X, y, flag_optim_verbose=False)"
   ]
  },
  {
   "cell_type": "code",
   "execution_count": 27,
   "metadata": {},
   "outputs": [
    {
     "name": "stdout",
     "output_type": "stream",
     "text": [
      "Desired A:\n",
      " [[3. 0.]\n",
      " [0. 1.]]\n",
      "Learned A:\n",
      " [[ 0.026 -0.031]\n",
      " [ 0.005 -0.014]]\n"
     ]
    }
   ],
   "source": [
    "# Compare the learned A with the desired A\n",
    "print(\"Desired A:\\n\", desired_A.numpy())\n",
    "print(\"Learned A:\\n\", model.A.detach().numpy().round(decimals=3))"
   ]
  },
  {
   "cell_type": "code",
   "execution_count": 28,
   "metadata": {},
   "outputs": [
    {
     "name": "stdout",
     "output_type": "stream",
     "text": [
      "Singulärwerte (S): [0.043 0.005]\n",
      "Linke singuläre Vektoren (U):\n",
      " [[-0.944 -0.33 ]\n",
      " [-0.33   0.944]]\n",
      "Rechte singuläre Vektoren (V^T):\n",
      " [[-0.612  0.791]\n",
      " [-0.791 -0.612]]\n"
     ]
    }
   ],
   "source": [
    "U, S, VT = np.linalg.svd(model.A.detach().numpy().round(decimals=3))\n",
    "print(\"Singulärwerte (S):\", S.round(decimals=3))\n",
    "print(\"Linke singuläre Vektoren (U):\\n\", U.round(decimals=3))\n",
    "print(\"Rechte singuläre Vektoren (V^T):\\n\", VT.round(decimals=3))"
   ]
  },
  {
   "cell_type": "code",
   "execution_count": 29,
   "metadata": {},
   "outputs": [],
   "source": [
    "desired_A = torch.tensor([[3.0, 0.0], [0.0, 0.0]])\n",
    "X, y = generate_data(desired_A)"
   ]
  },
  {
   "cell_type": "code",
   "execution_count": 30,
   "metadata": {},
   "outputs": [],
   "source": [
    "model = OptimizedKernel(kernel=Gaussian(), dim=2, reg_para=1e-6, learning_rate=1e-3, n_epochs=1000, \n",
    "                                                flag_initialize_diagonal=False,\n",
    "                                                flag_symmetric_A=False)"
   ]
  },
  {
   "cell_type": "code",
   "execution_count": 31,
   "metadata": {},
   "outputs": [],
   "source": [
    "model.optimize(X, y, flag_optim_verbose=False)"
   ]
  },
  {
   "cell_type": "code",
   "execution_count": 32,
   "metadata": {},
   "outputs": [
    {
     "name": "stdout",
     "output_type": "stream",
     "text": [
      "Desired A:\n",
      " [[3. 0.]\n",
      " [0. 0.]]\n",
      "Learned A:\n",
      " [[ 0.484 -0.049]\n",
      " [ 0.021  0.212]]\n"
     ]
    }
   ],
   "source": [
    "# Compare the learned A with the desired A\n",
    "print(\"Desired A:\\n\", desired_A.numpy())\n",
    "print(\"Learned A:\\n\", model.A.detach().numpy().round(decimals=3))"
   ]
  },
  {
   "cell_type": "code",
   "execution_count": 33,
   "metadata": {},
   "outputs": [
    {
     "name": "stdout",
     "output_type": "stream",
     "text": [
      "Singulärwerte (S): [0.486 0.213]\n",
      "Linke singuläre Vektoren (U):\n",
      " [[-1.     0.001]\n",
      " [ 0.001  1.   ]]\n",
      "Rechte singuläre Vektoren (V^T):\n",
      " [[-0.995  0.101]\n",
      " [ 0.101  0.995]]\n"
     ]
    }
   ],
   "source": [
    "U, S, VT = np.linalg.svd(model.A.detach().numpy().round(decimals=3))\n",
    "print(\"Singulärwerte (S):\", S.round(decimals=3))\n",
    "print(\"Linke singuläre Vektoren (U):\\n\", U.round(decimals=3))\n",
    "print(\"Rechte singuläre Vektoren (V^T):\\n\", VT.round(decimals=3))"
   ]
  },
  {
   "cell_type": "code",
   "execution_count": 34,
   "metadata": {},
   "outputs": [],
   "source": [
    "# Transformationmatrix\n",
    "desired_A = torch.tensor([[1, 0.0], [0.0, 3]])\n",
    "desired_A2 = torch.tensor([[3, 0.0], [0.0, 1]])\n",
    "X, y = generate_data(desired_A2, size=(10000, 2))\n",
    "model = OptimizedKernel(kernel=Gaussian(), dim=2, reg_para=1e-6, learning_rate=1e-3, n_epochs=1000, \n",
    "                                                flag_initialize_diagonal=desired_A.clone(),\n",
    "                                                flag_symmetric_A=False)"
   ]
  },
  {
   "cell_type": "code",
   "execution_count": 35,
   "metadata": {},
   "outputs": [],
   "source": [
    "model.optimize(X, y, flag_optim_verbose=False)"
   ]
  },
  {
   "cell_type": "code",
   "execution_count": 36,
   "metadata": {},
   "outputs": [
    {
     "name": "stdout",
     "output_type": "stream",
     "text": [
      "Init A:\n",
      " [[1. 0.]\n",
      " [0. 3.]]\n",
      "Desired A:\n",
      " [[3. 0.]\n",
      " [0. 1.]]\n",
      "Learned A:\n",
      " [[ 0.657 -0.11 ]\n",
      " [ 0.004  2.674]]\n"
     ]
    }
   ],
   "source": [
    "# Compare the learned A with the desired A\n",
    "print(\"Init A:\\n\", desired_A.numpy())\n",
    "print(\"Desired A:\\n\", desired_A2.numpy())\n",
    "print(\"Learned A:\\n\", model.A.detach().numpy().round(decimals=3))"
   ]
  },
  {
   "cell_type": "code",
   "execution_count": 37,
   "metadata": {},
   "outputs": [
    {
     "name": "stdout",
     "output_type": "stream",
     "text": [
      "Singulärwerte (S): [2.676 0.657]\n",
      "Linke singuläre Vektoren (U):\n",
      " [[-0.043  0.999]\n",
      " [ 0.999  0.043]]\n",
      "Rechte singuläre Vektoren (V^T):\n",
      " [[-0.009  1.   ]\n",
      " [ 1.     0.009]]\n"
     ]
    }
   ],
   "source": [
    "U, S, VT = np.linalg.svd(model.A.detach().numpy().round(decimals=3))\n",
    "print(\"Singulärwerte (S):\", S.round(decimals=3))\n",
    "print(\"Linke singuläre Vektoren (U):\\n\", U.round(decimals=3))\n",
    "print(\"Rechte singuläre Vektoren (V^T):\\n\", VT.round(decimals=3))"
   ]
  },
  {
   "cell_type": "code",
   "execution_count": 38,
   "metadata": {},
   "outputs": [],
   "source": [
    "# Matern Kernel\n",
    "desired_A = torch.tensor([[1, 0.0], [0.0, 3]])\n",
    "X, y = generate_data(desired_A2, size=(10000, 2))\n",
    "model = OptimizedKernel(kernel=Matern(k=2), dim=2, reg_para=1e-6, learning_rate=1e-3, n_epochs=1000, \n",
    "                                                flag_initialize_diagonal=True,\n",
    "                                                flag_symmetric_A=False)"
   ]
  },
  {
   "cell_type": "code",
   "execution_count": 39,
   "metadata": {},
   "outputs": [],
   "source": [
    "model.optimize(X, y, flag_optim_verbose=False)"
   ]
  },
  {
   "cell_type": "code",
   "execution_count": 40,
   "metadata": {},
   "outputs": [
    {
     "name": "stdout",
     "output_type": "stream",
     "text": [
      "Desired A:\n",
      " [[3. 0.]\n",
      " [0. 1.]]\n",
      "Learned A:\n",
      " [[ 1.066  0.148]\n",
      " [-0.043  0.862]]\n"
     ]
    }
   ],
   "source": [
    "# Compare the learned A with the desired A\n",
    "print(\"Desired A:\\n\", desired_A2.numpy())\n",
    "print(\"Learned A:\\n\", model.A.detach().numpy().round(decimals=3))"
   ]
  },
  {
   "cell_type": "code",
   "execution_count": 41,
   "metadata": {},
   "outputs": [
    {
     "name": "stdout",
     "output_type": "stream",
     "text": [
      "Singulärwerte (S): [1.083 0.854]\n",
      "Linke singuläre Vektoren (U):\n",
      " [[-0.982 -0.187]\n",
      " [-0.187  0.982]]\n",
      "Rechte singuläre Vektoren (V^T):\n",
      " [[-0.959 -0.283]\n",
      " [-0.283  0.959]]\n"
     ]
    }
   ],
   "source": [
    "U, S, VT = np.linalg.svd(model.A.detach().numpy().round(decimals=3))\n",
    "print(\"Singulärwerte (S):\", S.round(decimals=3))\n",
    "print(\"Linke singuläre Vektoren (U):\\n\", U.round(decimals=3))\n",
    "print(\"Rechte singuläre Vektoren (V^T):\\n\", VT.round(decimals=3))"
   ]
  },
  {
   "cell_type": "code",
   "execution_count": null,
   "metadata": {},
   "outputs": [],
   "source": []
  },
  {
   "cell_type": "code",
   "execution_count": null,
   "metadata": {},
   "outputs": [],
   "source": []
  }
 ],
 "metadata": {
  "kernelspec": {
   "display_name": "Python 3",
   "language": "python",
   "name": "python3"
  },
  "language_info": {
   "codemirror_mode": {
    "name": "ipython",
    "version": 3
   },
   "file_extension": ".py",
   "mimetype": "text/x-python",
   "name": "python",
   "nbconvert_exporter": "python",
   "pygments_lexer": "ipython3",
   "version": "3.8.5"
  }
 },
 "nbformat": 4,
 "nbformat_minor": 4
}
