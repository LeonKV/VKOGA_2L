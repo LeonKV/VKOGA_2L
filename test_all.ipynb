{
 "cells": [
  {
   "cell_type": "code",
   "execution_count": 1,
   "metadata": {},
   "outputs": [],
   "source": [
    "import numpy as np\n",
    "import matplotlib.pyplot as plt\n",
    "from sklearn.model_selection import train_test_split\n",
    "import torch\n",
    "from vkoga_2L import VKOGA_2L\n",
    "import tkernels\n",
    "import kernels"
   ]
  },
  {
   "cell_type": "code",
   "execution_count": 2,
   "metadata": {},
   "outputs": [],
   "source": [
    "def generate_data(n_samples=1000, n_features=2, n_targets=1, noise=False):\n",
    "    desired_A = torch.tensor([[0.5, 0.0], [0.0, 2.0]])  # True transformation matrix to calc X and compare later to learned A\n",
    "    X = torch.randn(n_samples, n_features)\n",
    "    X_transformed = X @ desired_A\n",
    "    noise_data = torch.zeros(n_samples)\n",
    "    if noise:\n",
    "        noise_data = torch.randn(n_samples)\n",
    "    y = X_transformed[:, 0] + X_transformed[:, 1] + 0.1 * noise_data\n",
    "    return X, y, desired_A"
   ]
  },
  {
   "cell_type": "code",
   "execution_count": 3,
   "metadata": {},
   "outputs": [],
   "source": [
    "# Generate data\n",
    "X, Y, desired_A = generate_data(n_samples=1000, n_features=2, n_targets=1, noise=True)\n",
    "\n",
    "# Split into training and testing data\n",
    "X_train, X_test, y_train, y_test = train_test_split(X, Y, test_size=0.2, random_state=42)"
   ]
  },
  {
   "cell_type": "code",
   "execution_count": 4,
   "metadata": {},
   "outputs": [],
   "source": [
    "# Initialize VKOGA_2L model (some Parameters are described in Page 123)\n",
    "model = VKOGA_2L(\n",
    "    kernel=[kernels.Matern(k=2), tkernels.Matern(k=2)], # quadratic Matern kernel used\n",
    "    flag_2L_optimization=True,\n",
    "    verbose=False,\n",
    "    greedy_type='f_greedy',\n",
    "    reg_par=0,\n",
    "    restr_par=1e-2,\n",
    "    tol_f=1e-10,\n",
    "    tol_p=1e-10,\n",
    "    reg_para_optim=1e-3,\n",
    "    learning_rate=5e-3,\n",
    "    n_epochs_optim=1000,\n",
    "    batch_size=32,\n",
    "    flag_optim_verbose=False\n",
    ")"
   ]
  },
  {
   "cell_type": "code",
   "execution_count": 5,
   "metadata": {},
   "outputs": [
    {
     "data": {
      "text/html": [
       "<style>#sk-container-id-1 {color: black;}#sk-container-id-1 pre{padding: 0;}#sk-container-id-1 div.sk-toggleable {background-color: white;}#sk-container-id-1 label.sk-toggleable__label {cursor: pointer;display: block;width: 100%;margin-bottom: 0;padding: 0.3em;box-sizing: border-box;text-align: center;}#sk-container-id-1 label.sk-toggleable__label-arrow:before {content: \"▸\";float: left;margin-right: 0.25em;color: #696969;}#sk-container-id-1 label.sk-toggleable__label-arrow:hover:before {color: black;}#sk-container-id-1 div.sk-estimator:hover label.sk-toggleable__label-arrow:before {color: black;}#sk-container-id-1 div.sk-toggleable__content {max-height: 0;max-width: 0;overflow: hidden;text-align: left;background-color: #f0f8ff;}#sk-container-id-1 div.sk-toggleable__content pre {margin: 0.2em;color: black;border-radius: 0.25em;background-color: #f0f8ff;}#sk-container-id-1 input.sk-toggleable__control:checked~div.sk-toggleable__content {max-height: 200px;max-width: 100%;overflow: auto;}#sk-container-id-1 input.sk-toggleable__control:checked~label.sk-toggleable__label-arrow:before {content: \"▾\";}#sk-container-id-1 div.sk-estimator input.sk-toggleable__control:checked~label.sk-toggleable__label {background-color: #d4ebff;}#sk-container-id-1 div.sk-label input.sk-toggleable__control:checked~label.sk-toggleable__label {background-color: #d4ebff;}#sk-container-id-1 input.sk-hidden--visually {border: 0;clip: rect(1px 1px 1px 1px);clip: rect(1px, 1px, 1px, 1px);height: 1px;margin: -1px;overflow: hidden;padding: 0;position: absolute;width: 1px;}#sk-container-id-1 div.sk-estimator {font-family: monospace;background-color: #f0f8ff;border: 1px dotted black;border-radius: 0.25em;box-sizing: border-box;margin-bottom: 0.5em;}#sk-container-id-1 div.sk-estimator:hover {background-color: #d4ebff;}#sk-container-id-1 div.sk-parallel-item::after {content: \"\";width: 100%;border-bottom: 1px solid gray;flex-grow: 1;}#sk-container-id-1 div.sk-label:hover label.sk-toggleable__label {background-color: #d4ebff;}#sk-container-id-1 div.sk-serial::before {content: \"\";position: absolute;border-left: 1px solid gray;box-sizing: border-box;top: 0;bottom: 0;left: 50%;z-index: 0;}#sk-container-id-1 div.sk-serial {display: flex;flex-direction: column;align-items: center;background-color: white;padding-right: 0.2em;padding-left: 0.2em;position: relative;}#sk-container-id-1 div.sk-item {position: relative;z-index: 1;}#sk-container-id-1 div.sk-parallel {display: flex;align-items: stretch;justify-content: center;background-color: white;position: relative;}#sk-container-id-1 div.sk-item::before, #sk-container-id-1 div.sk-parallel-item::before {content: \"\";position: absolute;border-left: 1px solid gray;box-sizing: border-box;top: 0;bottom: 0;left: 50%;z-index: -1;}#sk-container-id-1 div.sk-parallel-item {display: flex;flex-direction: column;z-index: 1;position: relative;background-color: white;}#sk-container-id-1 div.sk-parallel-item:first-child::after {align-self: flex-end;width: 50%;}#sk-container-id-1 div.sk-parallel-item:last-child::after {align-self: flex-start;width: 50%;}#sk-container-id-1 div.sk-parallel-item:only-child::after {width: 0;}#sk-container-id-1 div.sk-dashed-wrapped {border: 1px dashed gray;margin: 0 0.4em 0.5em 0.4em;box-sizing: border-box;padding-bottom: 0.4em;background-color: white;}#sk-container-id-1 div.sk-label label {font-family: monospace;font-weight: bold;display: inline-block;line-height: 1.2em;}#sk-container-id-1 div.sk-label-container {text-align: center;}#sk-container-id-1 div.sk-container {/* jupyter's `normalize.less` sets `[hidden] { display: none; }` but bootstrap.min.css set `[hidden] { display: none !important; }` so we also need the `!important` here to be able to override the default hidden behavior on the sphinx rendered scikit-learn.org. See: https://github.com/scikit-learn/scikit-learn/issues/21755 */display: inline-block !important;position: relative;}#sk-container-id-1 div.sk-text-repr-fallback {display: none;}</style><div id=\"sk-container-id-1\" class=\"sk-top-container\"><div class=\"sk-text-repr-fallback\"><pre>VKOGA_2L(flag_2L_optimization=True, flag_optim_verbose=False,\n",
       "         kernel=&lt;kernels.Matern object at 0x00000254BAE092B0&gt;,\n",
       "         n_epochs_optim=1000, restr_par=0.01, verbose=False)</pre><b>In a Jupyter environment, please rerun this cell to show the HTML representation or trust the notebook. <br />On GitHub, the HTML representation is unable to render, please try loading this page with nbviewer.org.</b></div><div class=\"sk-container\" hidden><div class=\"sk-item\"><div class=\"sk-estimator sk-toggleable\"><input class=\"sk-toggleable__control sk-hidden--visually\" id=\"sk-estimator-id-1\" type=\"checkbox\" checked><label for=\"sk-estimator-id-1\" class=\"sk-toggleable__label sk-toggleable__label-arrow\">VKOGA_2L</label><div class=\"sk-toggleable__content\"><pre>VKOGA_2L(flag_2L_optimization=True, flag_optim_verbose=False,\n",
       "         kernel=&lt;kernels.Matern object at 0x00000254BAE092B0&gt;,\n",
       "         n_epochs_optim=1000, restr_par=0.01, verbose=False)</pre></div></div></div></div></div>"
      ],
      "text/plain": [
       "VKOGA_2L(flag_2L_optimization=True, flag_optim_verbose=False,\n",
       "         kernel=<kernels.Matern object at 0x00000254BAE092B0>,\n",
       "         n_epochs_optim=1000, restr_par=0.01, verbose=False)"
      ]
     },
     "execution_count": 5,
     "metadata": {},
     "output_type": "execute_result"
    }
   ],
   "source": [
    "# Fit the model on training data\n",
    "model.fit(X_train, y_train)"
   ]
  },
  {
   "cell_type": "code",
   "execution_count": 6,
   "metadata": {},
   "outputs": [
    {
     "name": "stdout",
     "output_type": "stream",
     "text": [
      "Predictions: [-2.67114258  1.23193359  0.47949219  1.53845215 -2.10107422]\n",
      "Ground truth: tensor([-2.7937,  1.4943,  0.6867,  1.2488, -2.0089])\n",
      "MSE on Test Data: 0.053923\n",
      "Transformationmatrix: [[-0.023 -0.006]\n",
      " [-0.051  0.039]]\n",
      "Singulärwerte (S): [0.066 0.018]\n",
      "Linke singuläre Vektoren (U):\n",
      " [[-0.241 -0.971]\n",
      " [-0.971  0.241]]\n",
      "Rechte singuläre Vektoren (V^T):\n",
      " [[ 0.834 -0.552]\n",
      " [ 0.552  0.834]]\n",
      "MSE on First 5 Samples: 0.043846\n"
     ]
    }
   ],
   "source": [
    "# Print some predictions and ground truth\n",
    "predictions = model.predict(X_test)\n",
    "predictions = predictions.flatten()\n",
    "print(\"Predictions:\", predictions[:5])\n",
    "print(\"Ground truth:\", y_test[:5])\n",
    "\n",
    "# Print Error\n",
    "mse = np.mean((predictions - y_test.numpy()) ** 2)\n",
    "print(f\"MSE on Test Data: {mse:.6f}\")\n",
    "print(f\"Transformationmatrix: {model.A.round(decimals=3)}\")\n",
    "U, S, VT = np.linalg.svd(model.A.round(decimals=3))\n",
    "print(\"Singulärwerte (S):\", S.round(decimals=3))\n",
    "print(\"Linke singuläre Vektoren (U):\\n\", U.round(decimals=3))\n",
    "print(\"Rechte singuläre Vektoren (V^T):\\n\", VT.round(decimals=3))\n",
    "\n",
    "mse_sample = np.mean((predictions[:5] - y_test[:5].numpy()) ** 2)\n",
    "print(f\"MSE on First 5 Samples: {mse_sample:.6f}\")\n"
   ]
  },
  {
   "cell_type": "code",
   "execution_count": 7,
   "metadata": {},
   "outputs": [
    {
     "name": "stdout",
     "output_type": "stream",
     "text": [
      "If kernel optimization is desired, set flag_2L_optimization to True!\n"
     ]
    }
   ],
   "source": [
    "# No use of 2 Layer Vkoga (No learned A => A is identity)\n",
    "# Initialize VKOGA_2L model (some Parameters are described in Page 123)\n",
    "model = VKOGA_2L(\n",
    "    kernel=[kernels.Matern(k=2), tkernels.Matern(k=2)], # quadratic Matern kernel used\n",
    "    flag_2L_optimization=False,\n",
    "    verbose=False,\n",
    "    greedy_type='f_greedy',\n",
    "    reg_par=0,\n",
    "    restr_par=1e-2,\n",
    "    tol_f=1e-10,\n",
    "    tol_p=1e-10,\n",
    "    reg_para_optim=1e-5,\n",
    "    learning_rate=1e-3,\n",
    "    n_epochs_optim=1000,\n",
    "    batch_size=32,\n",
    "    flag_optim_verbose=False\n",
    ")"
   ]
  },
  {
   "cell_type": "code",
   "execution_count": 8,
   "metadata": {},
   "outputs": [
    {
     "data": {
      "text/html": [
       "<style>#sk-container-id-2 {color: black;}#sk-container-id-2 pre{padding: 0;}#sk-container-id-2 div.sk-toggleable {background-color: white;}#sk-container-id-2 label.sk-toggleable__label {cursor: pointer;display: block;width: 100%;margin-bottom: 0;padding: 0.3em;box-sizing: border-box;text-align: center;}#sk-container-id-2 label.sk-toggleable__label-arrow:before {content: \"▸\";float: left;margin-right: 0.25em;color: #696969;}#sk-container-id-2 label.sk-toggleable__label-arrow:hover:before {color: black;}#sk-container-id-2 div.sk-estimator:hover label.sk-toggleable__label-arrow:before {color: black;}#sk-container-id-2 div.sk-toggleable__content {max-height: 0;max-width: 0;overflow: hidden;text-align: left;background-color: #f0f8ff;}#sk-container-id-2 div.sk-toggleable__content pre {margin: 0.2em;color: black;border-radius: 0.25em;background-color: #f0f8ff;}#sk-container-id-2 input.sk-toggleable__control:checked~div.sk-toggleable__content {max-height: 200px;max-width: 100%;overflow: auto;}#sk-container-id-2 input.sk-toggleable__control:checked~label.sk-toggleable__label-arrow:before {content: \"▾\";}#sk-container-id-2 div.sk-estimator input.sk-toggleable__control:checked~label.sk-toggleable__label {background-color: #d4ebff;}#sk-container-id-2 div.sk-label input.sk-toggleable__control:checked~label.sk-toggleable__label {background-color: #d4ebff;}#sk-container-id-2 input.sk-hidden--visually {border: 0;clip: rect(1px 1px 1px 1px);clip: rect(1px, 1px, 1px, 1px);height: 1px;margin: -1px;overflow: hidden;padding: 0;position: absolute;width: 1px;}#sk-container-id-2 div.sk-estimator {font-family: monospace;background-color: #f0f8ff;border: 1px dotted black;border-radius: 0.25em;box-sizing: border-box;margin-bottom: 0.5em;}#sk-container-id-2 div.sk-estimator:hover {background-color: #d4ebff;}#sk-container-id-2 div.sk-parallel-item::after {content: \"\";width: 100%;border-bottom: 1px solid gray;flex-grow: 1;}#sk-container-id-2 div.sk-label:hover label.sk-toggleable__label {background-color: #d4ebff;}#sk-container-id-2 div.sk-serial::before {content: \"\";position: absolute;border-left: 1px solid gray;box-sizing: border-box;top: 0;bottom: 0;left: 50%;z-index: 0;}#sk-container-id-2 div.sk-serial {display: flex;flex-direction: column;align-items: center;background-color: white;padding-right: 0.2em;padding-left: 0.2em;position: relative;}#sk-container-id-2 div.sk-item {position: relative;z-index: 1;}#sk-container-id-2 div.sk-parallel {display: flex;align-items: stretch;justify-content: center;background-color: white;position: relative;}#sk-container-id-2 div.sk-item::before, #sk-container-id-2 div.sk-parallel-item::before {content: \"\";position: absolute;border-left: 1px solid gray;box-sizing: border-box;top: 0;bottom: 0;left: 50%;z-index: -1;}#sk-container-id-2 div.sk-parallel-item {display: flex;flex-direction: column;z-index: 1;position: relative;background-color: white;}#sk-container-id-2 div.sk-parallel-item:first-child::after {align-self: flex-end;width: 50%;}#sk-container-id-2 div.sk-parallel-item:last-child::after {align-self: flex-start;width: 50%;}#sk-container-id-2 div.sk-parallel-item:only-child::after {width: 0;}#sk-container-id-2 div.sk-dashed-wrapped {border: 1px dashed gray;margin: 0 0.4em 0.5em 0.4em;box-sizing: border-box;padding-bottom: 0.4em;background-color: white;}#sk-container-id-2 div.sk-label label {font-family: monospace;font-weight: bold;display: inline-block;line-height: 1.2em;}#sk-container-id-2 div.sk-label-container {text-align: center;}#sk-container-id-2 div.sk-container {/* jupyter's `normalize.less` sets `[hidden] { display: none; }` but bootstrap.min.css set `[hidden] { display: none !important; }` so we also need the `!important` here to be able to override the default hidden behavior on the sphinx rendered scikit-learn.org. See: https://github.com/scikit-learn/scikit-learn/issues/21755 */display: inline-block !important;position: relative;}#sk-container-id-2 div.sk-text-repr-fallback {display: none;}</style><div id=\"sk-container-id-2\" class=\"sk-top-container\"><div class=\"sk-text-repr-fallback\"><pre>VKOGA_2L(flag_optim_verbose=False,\n",
       "         kernel=&lt;kernels.Matern object at 0x00000254BC599D30&gt;,\n",
       "         learning_rate=0.001, n_epochs_optim=1000, reg_para_optim=1e-05,\n",
       "         restr_par=0.01, verbose=False)</pre><b>In a Jupyter environment, please rerun this cell to show the HTML representation or trust the notebook. <br />On GitHub, the HTML representation is unable to render, please try loading this page with nbviewer.org.</b></div><div class=\"sk-container\" hidden><div class=\"sk-item\"><div class=\"sk-estimator sk-toggleable\"><input class=\"sk-toggleable__control sk-hidden--visually\" id=\"sk-estimator-id-2\" type=\"checkbox\" checked><label for=\"sk-estimator-id-2\" class=\"sk-toggleable__label sk-toggleable__label-arrow\">VKOGA_2L</label><div class=\"sk-toggleable__content\"><pre>VKOGA_2L(flag_optim_verbose=False,\n",
       "         kernel=&lt;kernels.Matern object at 0x00000254BC599D30&gt;,\n",
       "         learning_rate=0.001, n_epochs_optim=1000, reg_para_optim=1e-05,\n",
       "         restr_par=0.01, verbose=False)</pre></div></div></div></div></div>"
      ],
      "text/plain": [
       "VKOGA_2L(flag_optim_verbose=False,\n",
       "         kernel=<kernels.Matern object at 0x00000254BC599D30>,\n",
       "         learning_rate=0.001, n_epochs_optim=1000, reg_para_optim=1e-05,\n",
       "         restr_par=0.01, verbose=False)"
      ]
     },
     "execution_count": 8,
     "metadata": {},
     "output_type": "execute_result"
    }
   ],
   "source": [
    "# Fit the model on training data\n",
    "model.fit(X_train, y_train)"
   ]
  },
  {
   "cell_type": "code",
   "execution_count": 9,
   "metadata": {},
   "outputs": [
    {
     "name": "stdout",
     "output_type": "stream",
     "text": [
      "Predictions: [-2.71238859  1.45945191  0.55231721  1.28563785 -2.04946843]\n",
      "Ground truth: tensor([-2.7937,  1.4943,  0.6867,  1.2488, -2.0089])\n",
      "MSE on Test Data: 0.056268\n",
      "Transformationmatrix: [[1. 0.]\n",
      " [0. 1.]]\n"
     ]
    }
   ],
   "source": [
    "# Print some predictions and ground truth\n",
    "predictions = model.predict(X_test)\n",
    "predictions = predictions.flatten()\n",
    "print(\"Predictions:\", predictions[:5])\n",
    "print(\"Ground truth:\", y_test[:5])\n",
    "\n",
    "# Print Error\n",
    "mse = np.mean((predictions - y_test.numpy()) ** 2)\n",
    "print(f\"MSE on Test Data: {mse:.6f}\")\n",
    "print(f\"Transformationmatrix: {model.A.round(decimals=3)}\")"
   ]
  },
  {
   "cell_type": "code",
   "execution_count": null,
   "metadata": {},
   "outputs": [],
   "source": []
  }
 ],
 "metadata": {
  "kernelspec": {
   "display_name": "Python 3",
   "language": "python",
   "name": "python3"
  },
  "language_info": {
   "codemirror_mode": {
    "name": "ipython",
    "version": 3
   },
   "file_extension": ".py",
   "mimetype": "text/x-python",
   "name": "python",
   "nbconvert_exporter": "python",
   "pygments_lexer": "ipython3",
   "version": "3.8.5"
  }
 },
 "nbformat": 4,
 "nbformat_minor": 4
}
